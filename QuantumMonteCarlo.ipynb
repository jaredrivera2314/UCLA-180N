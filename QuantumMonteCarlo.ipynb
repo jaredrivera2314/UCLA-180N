{
  "nbformat": 4,
  "nbformat_minor": 0,
  "metadata": {
    "kernelspec": {
      "display_name": "Python 3",
      "language": "python",
      "name": "python3"
    },
    "language_info": {
      "codemirror_mode": {
        "name": "ipython",
        "version": 3
      },
      "file_extension": ".py",
      "mimetype": "text/x-python",
      "name": "python",
      "nbconvert_exporter": "python",
      "pygments_lexer": "ipython3",
      "version": "3.6.4"
    },
    "colab": {
      "name": "Project 4",
      "provenance": [],
      "collapsed_sections": []
    }
  },
  "cells": [
    {
      "cell_type": "markdown",
      "metadata": {
        "id": "SgkAuRjeRaEZ",
        "colab_type": "text"
      },
      "source": [
        "#Statistical mechanics of the quantum harmonic oscillator using path integral Markov Chain Monte Carlo (MCMC): a comparison of Metropolis-Hastings MCMC and Hamiltonian MCMC\n",
        "Jared Rivera (in collaboration with Daniel Callos)\n",
        "\n",
        "UCLA Physics 180N, Fall 2019\n"
      ]
    },
    {
      "cell_type": "markdown",
      "metadata": {
        "id": "Tat9SUy08Kqg",
        "colab_type": "text"
      },
      "source": [
        "# **Abstract**\n",
        "\n",
        "In general, thermodynamic quantities like the expectation value of the Hamiltonian are hard to solve for analytically due to the partition function becoming nontrivial for all but the simplest systems. In practice, approximation methods are used to solve for these quantities of interest. This project sought to find the estimate expectation value of the energy of a finite-temperature quantum harmonic oscillator by approximately solving Feynman path integrals. To do this, two Markov Chain Monte Carlo (MCMC) alogorithms were applied: Metropolis-Hastings, and Hamiltonian Monte Carlo with the Stormer Verlet method implemented as the symplectic integrator. Both methods were able to estimate the expectation value of the energy at various temperatures with acceptable accuracy, converging to the exact values over large numbers of iterations (~1e6) for two different imaginary time discretizations (N = 2 and N = 5). The Hamiltonian method was applied with the hope of seeing faster convergence, but the current implementation failed to provide that boost. However, this is likely due to user error as implied by the fact that a free particle ansatz (U=0) in the Hamiltonian method did provide a boost to convergence speed. This project shows proof-of-principle that path integral MCMC methods are suitable for approxmating the statistical mechanics of complex quantum systems. "
      ]
    },
    {
      "cell_type": "markdown",
      "metadata": {
        "id": "26088tMqj2oW",
        "colab_type": "text"
      },
      "source": [
        "# **Physical System and Model**\n",
        "\n",
        "### The Partition Function\n",
        "\n",
        "In classical Statistical Mechanics, the probability of finding a system in state $s_i$ when in thermal equilibrium with a heat bath at temperature $T$ is given by the Boltzmann distribution\n",
        "\n",
        "\\begin{equation}\n",
        "    p(\\{s_i\\}) = Z^{-1}e^{-E(\\{s_i\\})/T},\n",
        "\\end{equation}\n",
        "\n",
        "where the partition function $Z$ is defined as\n",
        "\n",
        "$$\n",
        "Z = \\sum e^{-E(\\{s_i\\})/T}\n",
        "$$\n",
        "\n",
        "Where the sum runs over all possible states.\n",
        "\n",
        "To adapt this discussion to Quantum Statistical Mechanics, the  definition of the partition function becomes\n",
        "\n",
        "\\begin{align}\n",
        "    Z(\\beta) = \\mathrm{tr}(e^{-\\beta \\hat H})\n",
        "\\end{align}\n",
        "Where $\\beta = \\frac{1}{T}$\n",
        "\n",
        "Generalization to a continuous position space representation for a one-dimensional system turns the sum over discrete diagonal matrix elements (the trace) into an integral over a continuous spectrum of states:\n",
        "\n",
        "\\begin{align}\n",
        "    \\mathrm{tr}(e^{-\\beta \\hat H}) = \\int dq \\langle q|e^{-\\beta \\hat H}|q\\rangle\n",
        "\\end{align}\n",
        "\n",
        "To prove this, consider the Quantum mechanics representations of the identity in position and momentum:\n",
        "\n",
        "\\begin{align}\n",
        "    \\hat I = \\int dq\\, |q\\rangle\\langle q|, \\qquad \\hat I = \\int \\frac{dp}{2\\pi\\hbar}\\, |p\\rangle\\langle p|\n",
        "\\end{align}\n",
        "\n",
        "With inner products of position and momentum eigenstates defined as\n",
        "\n",
        "\\begin{align}\n",
        "    \\langle q|p\\rangle = e^{iqp/\\hbar}, \\qquad \\langle p|q\\rangle = e^{-ipq/\\hbar}\n",
        "\\end{align}\n",
        "\n",
        "we can consider the effec of inserting this quantum formalism into the trace for some general operator $\\hat O$\n",
        "\n",
        "\\begin{align}\n",
        "  \\mathrm{tr}(\\hat O) \n",
        "  &= \\sum_n\\langle n|\\hat O|n\\rangle \\\\\n",
        "  &= \\sum_n \\langle n|\\int dq |q\\rangle\\langle q| \\hat O\\int dq' |q'\\rangle\\langle q'||n\\rangle\\\\\n",
        "  &= \\int dq\\int dq'\\langle q|\\hat O|q'\\rangle \\sum_n\\langle q'|n\\rangle \\langle n|q\\rangle \\\\\n",
        "  &= \\int dq\\int dq'\\langle q|\\hat O|q'\\rangle \\delta(q-q') \\\\\n",
        "  &= \\int dq \\langle q|\\hat O|q\\rangle\n",
        "\\end{align}\n",
        "\n",
        "This proves our original equation:\n",
        "\n",
        "$$\n",
        "    Z(\\beta) = \\int dq \\,\\langle q|e^{-\\beta \\hat H}|q\\rangle\n",
        "$$\n",
        "\n",
        "### Discretization approximation\n",
        "\n",
        "Note that\n",
        "\n",
        "\\begin{align}\n",
        "    e^{\\hat A + \\hat B} = e^{\\hat A}e^{\\hat B}, \\qquad [\\hat A, \\hat B] = 0.\n",
        "\\end{align}\n",
        "\n",
        "More generally for $\\epsilon > 0$\n",
        "\n",
        "\\begin{align}\n",
        "    e^{\\epsilon(\\hat A + \\hat B)} = e^{\\epsilon \\hat A}e^{\\epsilon \\hat B} + O(\\epsilon^2)\n",
        "\\end{align}\n",
        "\n",
        "where the $O(\\epsilon^2)$ terms depend on the commutator $[\\hat A, \\hat B]$ in such a way that they vanish when the commutator vanishes.\n",
        "\n",
        "Suppose that $\\epsilon>0$ is a real number, then notice that\n",
        "\n",
        "\\begin{align}\n",
        "    e^{\\epsilon(\\hat A + \\hat B)}\n",
        "    &= \\hat I + \\epsilon(\\hat A + \\hat B) + \\frac{\\epsilon^2}{2!}(\\hat A + \\hat B)^2 + \\cdots\n",
        "\\end{align}\n",
        "\n",
        "and\n",
        "\n",
        "\\begin{align}\n",
        "    e^{\\epsilon\\hat A}e^{\\epsilon\\hat B} \n",
        "    &= (\\hat I + \\epsilon \\hat A + O(\\epsilon^2))(\\hat I + \\epsilon \\hat B + O(\\epsilon^2)) \\\\\n",
        "    &= \\hat I + \\epsilon\\hat A + \\epsilon \\hat B + O(\\epsilon^2) \\\\\n",
        "    &= \\hat I + \\epsilon(\\hat A + \\hat B) + O(\\epsilon^2)\n",
        "\\end{align}\n",
        "\n",
        "It follows that\n",
        "\n",
        "\\begin{align}\n",
        "    e^{\\epsilon(\\hat A + \\hat B)} = e^{\\epsilon\\hat A}e^{\\epsilon\\hat B} + O(\\epsilon^2)\n",
        "\\end{align}\n",
        "\n",
        "Therefore, if $\\epsilon$ is small, we have approximately\n",
        "\n",
        "\\begin{align}\n",
        "    e^{\\epsilon(\\hat A + \\hat B)} \\approx e^{\\epsilon\\hat A}e^{\\epsilon\\hat B}\n",
        "\\end{align}\n",
        "\n",
        "This becomes useful if we perform some discretization on $q$ in imaginary time:\n",
        "\n",
        "\\begin{align}\n",
        "    Z(\\beta) \n",
        "    &= \\int dq \\,\\langle q|e^{-\\beta \\hat H}|q\\rangle \\\\\n",
        "    &= \\int dq_1 \\,\\langle q_1|e^{-\\frac{\\beta}{N} \\hat H}e^{-\\frac{\\beta}{N} \\hat H}\\cdots e^{-\\frac{\\beta}{N} \\hat H}|q_1\\rangle \\\\\n",
        "    &= \\int dq_1\\int dq_2\\cdots \\int dq_N \\,\\langle q_1|e^{-\\frac{\\beta}{N} \\hat H}|q_N\\rangle\\langle q_N|e^{-\\frac{\\beta}{N} \\hat H}|q_{N-1}\\rangle\\langle q_{N-1}|\\cdots |q_2\\rangle\\langle q_2| e^{-\\frac{\\beta}{N} \\hat H}|q_1\\rangle \\\\\n",
        "    &= \\int d^N q \\,\\langle q_1|e^{-\\frac{\\beta}{N} \\hat H}|q_N\\rangle\\langle q_N|e^{-\\frac{\\beta}{N} \\hat H}|q_{N-1}\\rangle\\langle q_{N-1}|\\cdots |q_2\\rangle\\langle q_2| e^{-\\frac{\\beta}{N} \\hat H}|q_1\\rangle\n",
        "\\end{align}\n",
        "\n",
        "Define $\\epsilon = \\beta/N$ and suppose then\n",
        "\n",
        "\\begin{align}\n",
        "    \\hat H \n",
        "    &= \\hat T + \\hat V \\\\\n",
        "    &= \\frac{1}{2m}\\hat P^2 + V(\\hat Q)\n",
        "\\end{align}\n",
        "\n",
        "\\begin{align}\n",
        "    \\langle q_{i+1}|e^{-\\frac{\\beta}{N}\\hat H}|q_{i}\\rangle\n",
        "    &= \\langle q_{i+1}|e^{-\\epsilon\\hat H}|q_{i}\\rangle \\\\\n",
        "    &= \\langle q_{i+1}|e^{-\\epsilon(\\hat T + \\hat V)}|q_{i}\\rangle \\\\\n",
        "    &\\approx \\langle q_{i+1}|e^{-\\epsilon\\hat T}e^{-\\epsilon\\hat V}|q_{i}\\rangle \\\\\n",
        "    &= \\int \\frac{dp}{2\\pi\\hbar} \\langle q_{i+1}|e^{-\\epsilon\\hat T}|p\\rangle\\langle p|e^{-\\epsilon V(\\hat Q)}|q_{i}\\rangle \\\\\n",
        "    &= \\int \\frac{dp}{2\\pi\\hbar} \\,e^{-\\epsilon p^2/2m}e^{-\\epsilon V(q_{i})}\\langle q_{i+1}|p\\rangle\\langle p|q_{i}\\rangle \\\\\n",
        "    &= \\int \\frac{dp}{2\\pi\\hbar} \\,e^{-\\epsilon p^2/2m}e^{-\\epsilon V(q_{i})}e^{iq_{i+1}p/\\hbar}e^{-iq_ip/\\hbar}\n",
        "\\end{align}\n",
        "\n",
        "Now we remember that the Fourier transform of a Gaussian is a Gaussian:\n",
        "\n",
        "\\begin{align}\n",
        "    \\int \\frac{e^{-\\frac{k^2}{2\\sigma^2}}}{\\sqrt{2\\pi\\sigma^2}} e^{ikx} \\, dk\n",
        "    &= e^{-x^2/(2/\\sigma^2)}\n",
        "\\end{align}\n",
        "\n",
        "so the above simplifies to\n",
        "\n",
        "\\begin{align}\n",
        "    &= \\frac{e^{-\\epsilon V(q_{i})}}{2\\pi\\hbar} \\sqrt{\\frac{2\\pi m}{\\epsilon}}e^{-m(q_{i+1} - q_i) ^2/(2\\epsilon\\hbar ^2)} \\\\\n",
        "    &= \\frac{e^{-\\epsilon V(q_{i})}}{(2\\pi)^{1/2}} \\sqrt{\\frac{ m}{\\epsilon\\hbar^2}}\\exp\\left(-\\frac{1}{2}\\frac{(q_{i+1} - q_i)^2}{\\epsilon\\hbar ^2/m}\\right) \\\\\n",
        "    &= \\frac{1}{(2\\pi)^{1/2}A(\\epsilon)} \\exp\\left[-\\frac{1}{2}\\left(\\frac{q_{i+1} - q_i}{A(\\epsilon)}\\right)^2-\\epsilon V(q_{i})\\right]\n",
        "\\end{align}\n",
        "\n",
        "Where\n",
        "$$\n",
        "\\qquad A(\\epsilon) \\equiv \\left(\\frac{\\epsilon\\hbar^2}{m}\\right)^{1/2}\n",
        "$$\n",
        "\n",
        "The $N$-discretized partition function of a quantum particle of mass $m$ moving in one dimension at inverse temperature $\\beta$ subject to the potential $V(q)$ is\n",
        "\n",
        "$$\n",
        "    Z_N(\\beta) = \\int_{\\mathbb R^N}\\frac{d^Nq}{(2\\pi)^{N/2}A(\\epsilon)^N}\\,\\exp\\left(-\\sum_{i=1}^N\\left[\\frac{1}{2}\\left(\\frac{q_{i+1}-q_i}{A(\\epsilon)}\\right)^2 + \\epsilon V(q_i)\\right]\\right)\n",
        "$$\n",
        "\n",
        "Where we take a periodic spatial boundary condition \n",
        "$$\n",
        "\\qquad q_{N+1} \\equiv q_1\n",
        "$$ \n",
        "because in equilibrium this position won't be changing over the discretized \"imaginary time evolution\".\n",
        "\n",
        "### Adapting the formalism for use in MCMC\n",
        "\n",
        "Letting, $u_i = q_i/A(\\epsilon)$, the measure becomes independent of $\\beta$, as does the \"kinetic term\" in the exponential:\n",
        "\n",
        "$$\n",
        "    Z_N(\\beta) = \\int_{\\mathbb R^N}\\frac{d^Nu}{(2\\pi)^{N/2}}\\,\\exp\\left(-\\sum_{i=1}^N\\left[\\frac{1}{2}\\left(u_{i+1}-u_i\\right)^2 + \\epsilon V\\Big(A(\\epsilon)u_i\\Big)\\right]\\right)\n",
        "$$\n",
        "\n",
        "The ensemble average energy is\n",
        "\n",
        "$$\n",
        "  \\langle \\hat H\\rangle_N \n",
        "  = - \\frac{\\partial}{\\partial\\beta} \\ln Z_N \n",
        "  = - \\frac{1}{Z_N} \\frac{\\partial Z_N}{\\partial\\beta} \n",
        "  = \\frac{\\int_{\\mathbb R^N}d^Nu\\,\\frac{\\partial}{\\partial\\beta}\\left(\\sum_{i=1}^N\\epsilon V(A(\\epsilon) u_i)\\right) \\exp\\left(-\\sum_{i=1}^N\\left[\\frac{1}{2}\\left(u_{i+1}-u_i\\right)^2 + \\epsilon V\\Big(A(\\epsilon)u_i\\Big)\\right]\\right)}{\\int_{\\mathbb R^N}d^Nu\\,\\exp\\left(-\\sum_{i=1}^N\\left[\\frac{1}{2}\\left(u_{i+1}-u_i\\right)^2 + \\epsilon V\\Big(A(\\epsilon)u_i\\Big)\\right]\\right)}\n",
        "$$\n",
        "\n",
        "Now notice that\n",
        "\n",
        "$$\n",
        "  \\frac{\\partial}{\\partial\\beta} = \\frac{\\partial}{\\partial\\epsilon}\\frac{\\partial\\epsilon}{\\partial\\beta} = \\frac{1}{N}\\frac{\\partial}{\\partial\\epsilon}\n",
        "$$\n",
        "\n",
        "and therefore the term in the integrand of the numerator is\n",
        "\n",
        "$$\n",
        "  \\frac{\\partial}{\\partial\\beta}\\left(\\sum_{i=1}^N\\epsilon V(A(\\epsilon) u_i)\\right) = \\frac{1}{N}\\frac{\\partial}{\\partial\\epsilon}\\left(\\sum_{i=1}^N\\epsilon V(A(\\epsilon) u_i)\\right) = \\frac{1}{N}\\sum_{i=1}^N \\left[V(A(\\epsilon)u_i) + \\epsilon V'(A(\\epsilon) u_i)A'(\\epsilon)u_i\\right]\n",
        "  = \\frac{1}{N}\\sum_{i=1}^N \\left[V(A(\\epsilon) u_i) + \\frac{1}{2}(A(\\epsilon)u_i)V'(A(\\epsilon) u_i)\\right]\n",
        "$$\n",
        "\n",
        "Plugging this back into the expression for the ensemble average energy, and reverting the integrals to the old variables $q_i$ and using the notation $\\vec q = (q_1, q_2, \\dots, q_N)$ gives\n",
        "\n",
        "$$\n",
        "  \\langle \\hat H\\rangle_N = \\frac{\\int_{\\mathbb R^N}d^Nq\\,\\Phi(\\vec q) \\,e^{-U(\\vec q)}}{\\int_{\\mathbb R^N}d^Nq\\,e^{-U(\\vec q)}} \n",
        "$$\n",
        "where\n",
        "$$\n",
        "  \\qquad \\Phi(\\vec q) = \\frac{1}{N}\\sum_{i=1}^N\\left[V(q_i) + \\frac{1}{2}q_i V'(q_i)\\right] \n",
        "$$\n",
        "and\n",
        "$$\n",
        "  \\qquad U(\\vec q) = \\sum_{i=1}^N\\left[\\frac{m}{2(\\beta/N)\\hbar^2}\\left(q_{i+1}-q_i\\right)^2 + (\\beta/N) V(q_i)\\right]\n",
        "$$\n",
        "\n",
        "This is now presented in a way that MCMC can be applied for a given potential since we have written the desired quantity as the expectation value of a certain function $\\Phi$ on the space of vectors $\\vec q$.  To apply the algorithm, one needs to sample points from this space according to the un-normalized probability distribution $e^{-U(\\vec q)}$ using an algorithm of choice.\n",
        "\n",
        "### Applying to the quantum harmonic oscillator\n",
        "\n",
        "For the special case of the harmonic oscillator with potential $V(q) = \\frac{1}{2}m \\omega^2 q^2$ in contact with a heat bath at absolute temperature $T$, there is some probability $p_n(T)$ that the system will occupy each of its energy eigenstates proportional to the Boltzmann factor associated with that state.  This can be used to determine an expression for the average energy the system will have in equilibrium according to the above path integral derivations, yielding \n",
        "\n",
        "$$ e^{-U(\\mathbf{q})} = \\mathrm{exp} \\bigg\\{ -\\frac{\\|\\mathbf{u}_{D}\\|^{2} + \\epsilon^{2}\\hbar^{2}\\omega^{2}\\|\\mathbf{u}\\|^{2}}{2}\\bigg\\}$$\n",
        "\n",
        "which in turn gives\n",
        "\n",
        "$$\\langle \\mathbf{H}\\rangle_{N} = \\frac{\\hbar^{2}\\omega^{2}\\epsilon}{N}\\frac{ \\int_{\\mathbb{R}^{N}} \\mathrm{d}^{N}\\mathbf{u}  \\mathrm{exp} \\bigg\\{ -\\frac{\\|\\mathbf{u}_{D}\\|^{2} + \\epsilon^{2}\\hbar^{2}\\omega^{2} \\|\\mathbf{u}\\|^{2}}{2} \\bigg\\}\\|\\mathbf{u}\\|^{2} }{\\int_{\\mathbb{R}^{N}} \\mathrm{d}^{N}\\mathbf{u}  \\mathrm{exp} \\bigg\\{ -\\frac{\\|\\mathbf{u}_{D}\\|^{2} + \\epsilon^{2}\\hbar^{2}\\omega^{2}\\|\\mathbf{u}\\|^{2}}{2}\\bigg\\}} $$\n",
        "\n",
        "with\n",
        "\n",
        "$$ \\Phi(\\vec{q}) = \\frac{\\hbar^{2}\\omega^{2}\\epsilon}{N}\\|u\\|^{2}$$\n",
        "\n",
        "and\n",
        "\n",
        "$$ \\mathbf{u}_{D}^{\\mu} = \\mathbf{u}^{\\mu + 1} - \\mathbf{u}^{\\mu} $$\n",
        "\n",
        "\n",
        "Please note that this section makes heavy use of the LaTeX and organizational structure of the Appendix in reference [1].\n"
      ]
    },
    {
      "cell_type": "markdown",
      "metadata": {
        "id": "nJZDAFmBj2d-",
        "colab_type": "text"
      },
      "source": [
        "# **Algorithms**\n",
        "\n",
        "An algorithm is fundamentally a list of instructions, a protocol to be carried out in a consistent and logical fashion. This project makes heavy use of several algorithms for the purpose of speeding up computation. Pen and paper calculations have the appeal of providing analytic solutions to problems that will yield them, but many problems become intractable even if the unit processes are easy. Implementing robust algorithms on a computer allows repetitive, well-defined tasks to be solved much quicker than can be done by hand. Studying good algorithms also speeds up the code relative to a naive approach that a novice programmer may take. The main algorithms implemented in ths project are detailed below, but it should be noted that several more are taken advantage of through the NumPy package.\n",
        "\n",
        "Let's first prove a useful identity that will reduce computational cost in this already expensive project. With a sequence $o_1, \\dots, o_n$ of real numbers corresponding to measured values of some observable quantity $O$, the $k^\\mathrm{th}$ running average of this sequence is defined as:\n",
        "\\begin{align}\n",
        "    \\langle O \\rangle_k = \\frac{o_1 + \\cdots + o_k}{k}\n",
        "\\end{align}\n",
        "Now consider the next step:\n",
        "\\begin{align}\n",
        "    \\langle O \\rangle_{k+1} = \\frac{o_1 + \\cdots + o_k + o_{k+1}}{k+1}\n",
        "\\end{align}\n",
        "We'd like to relate this simply to $\\langle O \\rangle_k$.\n",
        "\n",
        "Separate the fraction as\n",
        "\\begin{align}\n",
        "    \\langle O \\rangle_{k+1} = \\frac{o_1 +  \\cdots + o_k}{k+1} + \\frac{o_{k+1}}{k+1}\n",
        "\\end{align}\n",
        "Now use the first equation to argue\n",
        "\\begin{align}\n",
        "    o_1 + \\cdots + o_k = k\\langle O \\rangle_{k}\n",
        "\\end{align}\n",
        "So that\n",
        "\\begin{align}\n",
        "    \\langle O \\rangle_{k+1} = \\frac{k}{k+1}\\langle O \\rangle_k + \\frac{o_{k+1}}{k+1}\n",
        "\\end{align}\n",
        "Which can be written as\n",
        "\\begin{align}\n",
        "    \\langle O \\rangle_{k+1} = (1-\\frac{1}{k+1})\\langle O \\rangle_k + \\frac{o_{k+1}}{k+1}\n",
        "\\end{align}\n",
        "Yielding\n",
        "\\begin{align}\n",
        "    \\langle O\\rangle_{k+1} = \\langle O\\rangle_k + \\frac{1}{k+1}(o_{k+1} - \\langle O\\rangle_k).\n",
        "\\end{align}\n",
        "\n",
        "This is a useful identity because it means that if you're generating the sequence of $o_k$'s one after the other in, say, a loop, computing the running average on each iteration doesn't require summing up all of the previous values and dividing by the total number of values every single time -- you can simply update the prior running average by adding a change term that depends on the next value in the sequence and the current running average.\n",
        "\n",
        "\n",
        "## Markov-Chain Monte-Carlo\n",
        "\n",
        "A good description of MCMC is given in reference [3]: \"A Markov chain is a probabilistic process the generates a sequence of possible states in which the probability of each state depends only on the previous state. MCMC works by generating Markov chains where the number of times a given state tends to appear is proportional to its probability.\"\n",
        "\n",
        "There are many different implementations of MCMC algorithms, here we'll discuss two of them.\n",
        "\n",
        "### Metropolis-Hastings algorithm\n",
        "\n",
        "Following the organizational structure of reference [3], the MH implementation proceeds as follows:\n",
        "\n",
        "1) Initiate an initial state $s_0$ of your choosing,\n",
        "and successively generate states by following steps 2 through 4.\n",
        "\n",
        "2) propose a new state $s'$ according a probability distribution $q$, defined\n",
        "such that $q(s'|s)$ is the probability of proposing $s'$ given the current state is $s$.\n",
        "\n",
        "3) Accept the proposed state with probability\n",
        "\n",
        "$$\n",
        "A(s'|s) = min \\left( 1,\\frac{p_{s'}q(s|s')}{p_{s}q(s'|s)} \\right)\n",
        "$$\n",
        "\n",
        "If the state is not accepted, stay in the same state $s$.\n",
        "\n",
        "The proposal distribution is often chosen to be symmetric to simplify the acceptance probability to\n",
        "\n",
        "$$\n",
        "A(s'|s) = min \\left( 1,\\frac{p_{s'}}{p_{s}} \\right)\n",
        "$$\n",
        "\n",
        "4) Go back to step 2. \n",
        "\n",
        "### Hamiltonian Monte Carlo algorithm\n",
        "\n",
        "The point of this method is to have energetically-informed proposed state generation (reference [4]). This allows higher probability of accepting states that are far from the current state. The only differnce from the MH method is in how the new state to be proposed is generated. To generate the proposal, follow the steps below:\n",
        "\n",
        "1) Generate a random momentum by sampling from a Gaussian distribution. This mimicks the random velocities of colliding particles in a thermal bath.\n",
        "\n",
        "2) Generate a proposed position state by evolving the current position state according to Hamilton's equations with the momentum from step 1. This requires the use of a numerical integrator (detailed below). Let's quickly review the Hamiltonian relevant to this sytem.\n",
        "\n",
        "$$\n",
        "H(q,p) = T(\\vec p) + U(\\vec q)\n",
        "$$ \n",
        "where\n",
        "$$\n",
        "T(\\vec p) = \\frac{|\\vec p|^2}{2m}\n",
        "$$\n",
        "and\n",
        "$$\n",
        "U(\\vec q) = \\sum_{i = 1}^{N} \\left[ \\frac{m}{2 \\epsilon \\hbar^2}(q_{i+1}-q_i)^2 + \\epsilon(\\frac{1}{2}m \\omega^2 q_i^2) \\right]\n",
        "$$\n",
        "\n",
        "Note that in general, $(\\frac{\\partial H}{\\partial \\vec x})_i = \\frac{\\partial H}{\\partial x_i}$\n",
        "\n",
        "For use in Hamilton's equations to be input to the SV solver,\n",
        "$$\n",
        "\\left( \\frac{\\partial H}{\\partial \\vec p}\\right)_i = \\frac{p_i}{m}\n",
        "$$\n",
        "\n",
        "For the other partial, we need to consider multiple sum terms since $q_i$ also shows up in the $i-1$ term as seen below\n",
        "\n",
        "$$\n",
        "\\frac{\\partial U}{\\partial q_i} \\propto (q_{i+1} - q_i)\n",
        "$$\n",
        "and\n",
        "$$\n",
        "\\frac{\\partial U}{\\partial q_{i-1}} \\propto (q_i - q_{i-1})\n",
        "$$\n",
        "\n",
        "Keeping track of constants, grouping terms in $q_i$, and doing some algebra yields\n",
        "\n",
        "$$\n",
        "\\left( \\frac{\\partial H}{\\partial \\vec q}\\right)_i = (\\frac{2m}{\\epsilon \\hbar^2} + \\epsilon m \\omega^2)q_i - \\frac{m}{\\epsilon \\hbar^2}(q_{i+1} + q_{i-1})\n",
        "$$\n",
        "\n",
        "Now discrete, known values can be passed into the SV integrator. Note that $U$ can naively be chosen to be 0, like a free particle, but this is less effective and less interesting (though it proved useful in debugging).\n",
        "\n",
        "#### Stormer-Verlet integrator\n",
        "  \n",
        "This is a symplectic method that conserves energy in the system. The implementation is as follows:\n",
        "\n",
        "$$\n",
        "p_{k,n+\\frac{1}{2}} = p_{k,n} - \\frac{h}{2}\\frac{\\partial H}{\\partial q^k}(\\vec q_n,\\vec p_n)\n",
        "$$\n",
        "$$\n",
        "q_{n+1}^k = q_n^k + h\\frac{\\partial H}{\\partial p_k}(\\vec q_n,\\vec p_{k,n+\\frac{1}{2}})\n",
        "$$\n",
        "$$\n",
        "p_{k,n+1} = p_{k,n+\\frac{1}{2}} - \\frac{h}{2}\\frac{\\partial H}{\\partial q^k}(\\vec q_{n+1},\\vec p_n)\n",
        "$$\n",
        "\n",
        "As in reference [2].\n",
        "\n",
        "The rest of the MCMC algorithm proceeds like MH.\n"
      ]
    },
    {
      "cell_type": "markdown",
      "metadata": {
        "id": "WxSgPvSej2Ts",
        "colab_type": "text"
      },
      "source": [
        "# **Code**"
      ]
    },
    {
      "cell_type": "code",
      "metadata": {
        "id": "k0oLbuvpXILb",
        "colab_type": "code",
        "colab": {}
      },
      "source": [
        "import numpy as np\n",
        "import matplotlib.pyplot as plt\n",
        "\n",
        "def get_prob(q, j, qj_new, omega, epsilon, N):\n",
        "  \"\"\"\"\"\"\n",
        "  factor = 0.5 * ( hbar * omega * epsilon )**2.0\n",
        "  term1 = qj_new**2.0 - q[j]**2.0\n",
        "  term2 = (q[j] - qj_new) * (q[j] + qj_new - q[(j-1) % N] - q[(j+1) % N])\n",
        "  dU = factor * term1 - term2 #U_prop - U_current\n",
        "  return np.exp(-dU)\n",
        "\n",
        "def get_phi(q, m, omega, N):\n",
        "  \"\"\"\"\"\"\n",
        "  return m * omega**2 * np.linalg.norm(q)**2 / N\n",
        "\n",
        "def true_H(omega, T, N_dims):\n",
        "    \"\"\"\"\"\"\n",
        "    beta = 1.0 / (kB * T)\n",
        "    N_dims = float(N_dims)\n",
        "    a = (beta * hbar) / N_dims\n",
        "    W = omega * np.sqrt( (0.5*a*omega)**2.0 + 1.0 )\n",
        "    R = 1.0 + 0.5*(a * omega)**2.0 - a*omega*np.sqrt( (0.5*a*omega)**2.0 + 1.0 )\n",
        "    U = 0.5 * hbar * omega * omega * (1 + R**N_dims) / (W * (1.0 - R**N_dims))\n",
        "    return U\n",
        "\n",
        "def get_expec(O_prev,o_new,n): #n is the index of O_prev\n",
        "    \"\"\"\"\"\"\n",
        "    O_new = O_prev + (o_new - O_prev) / float(n+1)\n",
        "    return O_new\n",
        "\n",
        "################################################################################\n",
        "\n",
        "def mh_update(omega, epsilon, N_pts, state, current):\n",
        "  \"\"\"\"\"\"\n",
        "  j = np.random.randint(0,N_pts)\n",
        "  a = epsilon * hbar\n",
        "  delta = 1.0 / a\n",
        "  qj_new = state[j] + np.random.uniform(-delta, delta)\n",
        "  prob = get_prob(state,j,qj_new,omega,epsilon,N_pts)\n",
        "    \n",
        "  alpha = min(1.0, prob)\n",
        "  if alpha == 1.0:\n",
        "    current += qj_new**2 - state[j]**2\n",
        "    state[j] = qj_new \n",
        "  else:\n",
        "    u = np.random.uniform(0,1)\n",
        "    if u <= alpha:\n",
        "        current += qj_new**2 - state[j]**2\n",
        "        state[j] = qj_new\n",
        "  return state, current\n",
        "\n",
        "################################################################################\n",
        "\n",
        "def d_qH(q,p,qm1,qp1,epsilon):\n",
        "    \"\"\"\"\"\"\n",
        "    ans = (2*m/(epsilon*hbar**2))*q-(m/(epsilon*hbar**2))*(qp1 + qm1)\n",
        "    return ans\n",
        "  \n",
        "def d_pH(q,p):\n",
        "    \"\"\"\"\"\"\n",
        "    return p/m\n",
        "\n",
        "def sv_solve(d_qH, d_pH, t_0 = 0.0, q_0 = 0.0, p_0 = 1.0, h = 0.1, N = 100, qm1 = 0.0, qp1 = 0.0,epsilon = 1.0):\n",
        "    \"\"\"\"\"\"\n",
        "    P = np.zeros(N+1)\n",
        "    Q = np.zeros(N+1)\n",
        "    Q[0] = q_0\n",
        "    P[0] = p_0\n",
        "    for n in range(N):\n",
        "      Phalf = P[n] - (h/2) * d_qH(Q[n], P[n],qm1,qp1,epsilon)\n",
        "      Q[n + 1] = Q[n] + h * d_pH(Q[n], Phalf)\n",
        "      P[n + 1] = Phalf - (h/2) * d_qH(Q[n+1], P[n],qm1,qp1,epsilon)\n",
        "    return Q[n + 1]\n",
        "\n",
        "def hmc_update(omega, epsilon, N_pts, state, current):\n",
        "  \"\"\"\"\"\"\n",
        "  beta = epsilon * N_pts\n",
        "  h = 0.01/(omega * epsilon * hbar)\n",
        "  N = 100\n",
        "\n",
        "  #Get a random momentum from a normal distribution\n",
        "  mu, sigma = 0, 0.1 # mean and standard deviation\n",
        "  p_0 = np.random.normal(mu, sigma, 1)\n",
        "  j = np.random.randint(0,N_pts)\n",
        "\n",
        "  #Find a state using sv_solve to get a proposal\n",
        "  q_0 = state[j]\n",
        "  if j == 0:\n",
        "    qm1 = N_pts - 1\n",
        "    qp1 = j + 1\n",
        "  elif j == (N_pts-1):\n",
        "    qm1 = j - 2\n",
        "    qp1 = 0\n",
        "  else:\n",
        "    qm1 = j - 1\n",
        "    qp1 = j + 1\n",
        "\n",
        "  qj_new = sv_solve(d_qH, d_pH, 0, q_0, p_0, h, N, state[qm1], state[qp1],epsilon)\n",
        "\n",
        "  prob = get_prob(state,j,qj_new,omega,epsilon,N_pts)\n",
        "  alpha = min(1.0, prob)\n",
        "  if alpha == 1.0:\n",
        "    current += qj_new**2 - state[j]**2\n",
        "    state[j] = qj_new \n",
        "  else:\n",
        "    u = np.random.uniform(0,1)\n",
        "    if u <= alpha:\n",
        "        current += qj_new**2 - state[j]**2\n",
        "        state[j] = qj_new\n",
        "  return state, current\n",
        "\n",
        "################################################################################\n",
        "\n",
        "def run_mcmc(N_pts, N_iter, omega, T, method=\"Metropolis-Hastings\"):\n",
        "    \"\"\"\"\"\"\n",
        "    epsilon = 1.0 / (N_pts * T)\n",
        "    state = np.random.rand(N_pts)\n",
        "    current = np.linalg.norm(state)**2\n",
        "    k = 0\n",
        "    avgarr = []\n",
        "    for i in range(1, N_iter):\n",
        "        for n in range(N_pp):\n",
        "            if method==\"Metropolis-Hastings\":\n",
        "              state, current = mh_update(omega, epsilon, N_pts, state, current)\n",
        "            elif method==\"Hamiltonian\":\n",
        "              state, current = hmc_update(omega, epsilon, N_pts, state, current)\n",
        "        if (i > N_iter / 10) and ( (i + 1) % 10 == 0 ):\n",
        "            if k==0:  avg = current\n",
        "            else:  avg = get_expec(avg, current, k)\n",
        "            k+=1\n",
        "            avgarr.append(avg)\n",
        "    prefact = (hbar * omega )**2 * epsilon / N_pts\n",
        "    avgarr=np.array(avgarr)\n",
        "    return prefact*avgarr,state\n"
      ],
      "execution_count": 0,
      "outputs": []
    },
    {
      "cell_type": "markdown",
      "metadata": {
        "id": "YYyApOOzj2JZ",
        "colab_type": "text"
      },
      "source": [
        "# **Results**\n",
        "\n",
        "Below I call the run_mcmc function for both methods to get an estimate of the expectation value of the energy. The main result of interest is showing that this method can recreate the temperature dependence of the result. However, before doing that, runs must be done to determine how many iterations are needed for the MCMC output to converge. This is the Convergence Test."
      ]
    },
    {
      "cell_type": "code",
      "metadata": {
        "id": "TnK8H1Gn_rZQ",
        "colab_type": "code",
        "outputId": "c2a337fd-c2e3-45ca-e853-e69d8aeedb00",
        "colab": {
          "base_uri": "https://localhost:8080/",
          "height": 557
        }
      },
      "source": [
        "#Metropolis-Hastings Convergence Test\n",
        "\n",
        "N_pts = int(4) #number of points in path\n",
        "N_iter = int(1e5) #number of iterations per point\n",
        "N_pp = int(5) #intermediate iterations per point\n",
        "omega = 1.0\n",
        "beta1 = 1.0\n",
        "m = 1.0\n",
        "hbar = 1.0\n",
        "kB = 1\n",
        "T1 = 1/beta1\n",
        "\n",
        "#Imaginary time evolution\n",
        "Hexpec,state = run_mcmc(N_pts, N_iter, omega, T1, \"Metropolis-Hastings\")\n",
        "\n",
        "#Look at energy convergence\n",
        "U = true_H(omega, T1, N_pts)\n",
        "Uarr = np.zeros(len(Hexpec)) + U\n",
        "\n",
        "index = np.linspace(0,N_iter,len(Hexpec))\n",
        "plt.plot(index,Hexpec)\n",
        "plt.plot(index,Uarr)\n",
        "plt.title(\"Metropolis-Hastings convergence study\")\n",
        "plt.xlabel(\"Iteration #\")\n",
        "plt.ylabel(\"<H>\")\n",
        "plt.legend(('MH MC','Analytic'));\n",
        "plt.show()\n",
        "\n",
        "#Look at q\n",
        "time = np.linspace(0,len(state),len(state))\n",
        "plt.plot(time,state)\n",
        "plt.xlabel(\"N\")\n",
        "plt.ylabel(\"q\")\n",
        "plt.show()\n"
      ],
      "execution_count": 2,
      "outputs": [
        {
          "output_type": "display_data",
          "data": {
            "image/png": "[encoded data removed]",
            "text/plain": [
              "<Figure size 432x288 with 1 Axes>"
            ]
          },
          "metadata": {
            "tags": []
          }
        },
        {
          "output_type": "display_data",
          "data": {
            "image/png": "[encoded data removed]",
            "text/plain": [
              "<Figure size 432x288 with 1 Axes>"
            ]
          },
          "metadata": {
            "tags": []
          }
        }
      ]
    },
    {
      "cell_type": "markdown",
      "metadata": {
        "id": "uOAg99x4zehf",
        "colab_type": "text"
      },
      "source": [
        "As seen above, convergence is seen on the order of 1e5 iterations."
      ]
    },
    {
      "cell_type": "code",
      "metadata": {
        "id": "5r2tVUiOvab1",
        "colab_type": "code",
        "outputId": "436e768f-16b9-4374-e86d-ef87798500e8",
        "colab": {
          "base_uri": "https://localhost:8080/",
          "height": 557
        }
      },
      "source": [
        "#Hamiltonian Convergence Test\n",
        "N_pts = int(2) #number of points in path\n",
        "N_iter = int(9e5) #number of iterations per point\n",
        "N_pp = int(5) #intermediate iterations per point\n",
        "omega = 1.0\n",
        "beta2 = 1.0\n",
        "m = 1.0\n",
        "hbar = 1.0\n",
        "kB = 1\n",
        "T2 = 1/beta2\n",
        "\n",
        "#Imaginary time evolution\n",
        "Hexpec,state = run_mcmc(N_pts, N_iter, omega, T2, \"Hamiltonian\")\n",
        "\n",
        "#Look at energy convergence\n",
        "U = true_H(omega, T2, N_pts)\n",
        "Uarr = np.zeros(len(Hexpec)) + U\n",
        "\n",
        "index = np.linspace(0,N_iter,len(Hexpec))\n",
        "plt.plot(index,Hexpec)\n",
        "plt.plot(index,Uarr)\n",
        "plt.title(\"Hamiltonian MC convergence study\")\n",
        "plt.xlabel(\"Iteration #\")\n",
        "plt.ylabel(\"<H>\")\n",
        "plt.legend(('MH MC','Analytic'));\n",
        "plt.show()\n",
        "\n",
        "#Look at q\n",
        "time = np.linspace(0,len(state),len(state))\n",
        "plt.plot(time,state)\n",
        "plt.xlabel(\"N\")\n",
        "plt.ylabel(\"q\")\n",
        "plt.show()"
      ],
      "execution_count": 3,
      "outputs": [
        {
          "output_type": "display_data",
          "data": {
            "image/png": "[encoded data removed]",
            "text/plain": [
              "<Figure size 432x288 with 1 Axes>"
            ]
          },
          "metadata": {
            "tags": []
          }
        },
        {
          "output_type": "display_data",
          "data": {
            "image/png": "[encoded data removed]",
            "text/plain": [
              "<Figure size 432x288 with 1 Axes>"
            ]
          },
          "metadata": {
            "tags": []
          }
        }
      ]
    },
    {
      "cell_type": "markdown",
      "metadata": {
        "id": "YBY4yJU_zbpV",
        "colab_type": "text"
      },
      "source": [
        "As seen above, convergence is seen on the order of 1e6 iterations. This is larger than the other methodm, which was actually a surprise. In testing, the Hamiltonian method was implemented with $U=0$ and showed a speed up compared to Metropolis-Hastings. This may be evidence that my implementation of the potential has a bug."
      ]
    },
    {
      "cell_type": "markdown",
      "metadata": {
        "id": "ttsPRNFdCQ5P",
        "colab_type": "text"
      },
      "source": [
        "Now look at $\\frac{U}{\\hbar \\omega}$ vs. $\\beta \\hbar \\omega$ like in reference [5], which will help us understand how the expectation value of the energy changes with temperature. \n",
        "\n",
        "The analytic solution is given in reference [5] as\n",
        "\n",
        "$$\n",
        "U = \\frac{1}{2} \\hbar \\omega \\left[ \\frac{\\omega (1+R^N)}{\\Omega (1-R^N} \\right]\n",
        "$$\n",
        "where N is the discretization number, $\\Omega$ is defined following \n",
        "$$\n",
        "\\Omega^2 = \\omega^2 (1+\\frac{1}{4}a^2 \\omega^2)\n",
        "$$\n",
        "with $a = \\epsilon \\hbar$\n",
        "\n",
        "and \n",
        "\n",
        "$$\n",
        "R = 1 + \\frac{1}{2}a^2 \\omega^2 - a \\omega (1+\\frac{1}{4}a^2 \\omega^2)^\\frac{1}{2}\n",
        "$$\n",
        "\n",
        "This function for $U$ is defined as a function in the larger code body above and is called to compare the two MCMC methods to below."
      ]
    },
    {
      "cell_type": "code",
      "metadata": {
        "id": "yrfgDysOHIKr",
        "colab_type": "code",
        "colab": {}
      },
      "source": [
        "#Parametrize discrete system\n",
        "N_pts = int(2) #number of points in path\n",
        "N_iter = int(3e3) #number of iterations per point\n",
        "N_pp = int(5) #intermediate iterations per point\n",
        "omega = 1.0\n",
        "m = 1.0\n",
        "hbar = 1.0\n",
        "kB = 1\n",
        "\n",
        "#Analytic\n",
        "Uanalytic = np.zeros(100)\n",
        "betaan = np.linspace(0.2,4,100)\n",
        "\n",
        "for i in range(100):\n",
        "  Uanalytic[i] = true_H(omega, 1/betaan[i], 4)\n",
        "\n",
        "#THESE TWO BELOW NEED TO BE GUARANTEED CONVERGED!\n",
        "betaarr = np.asarray([4,2,1,0.5])\n",
        "Hexpechmc = np.zeros(len(betaarr))\n",
        "statehmc = np.zeros(len(betaarr))\n",
        "Hexpecmhmc = np.zeros(len(betaarr))\n",
        "statemhmc = np.zeros(len(betaarr))\n",
        "\n",
        "for t in range(len(betaarr)):\n",
        "  #Hamiltonian MCMC\n",
        "  Hexpechmct,statehmc = run_mcmc(N_pts, int(3e5)*(t+1), omega, 1/(betaarr[t]), \"Hamiltonian\")\n",
        "  Hexpechmc[t] = Hexpechmct[-1]\n",
        "\n",
        "  #Metropolis-Hastings MCMC\n",
        "  Hexpecmhmct,statemhmc = run_mcmc(N_pts, N_iter*(t+1), omega, 1/(betaarr[t]), \"Metropolis-Hastings\")\n",
        "  Hexpecmhmc[t] = Hexpecmhmct[-1]\n"
      ],
      "execution_count": 0,
      "outputs": []
    },
    {
      "cell_type": "code",
      "metadata": {
        "id": "B6vaqnXp4Hxs",
        "colab_type": "code",
        "outputId": "e70eb20d-ab89-4a40-dca2-2d2499bd616b",
        "colab": {
          "base_uri": "https://localhost:8080/",
          "height": 295
        }
      },
      "source": [
        "#Plot to compare\n",
        "plt.plot(betaan,Uanalytic)\n",
        "plt.plot(betaarr,Hexpechmc,'.')\n",
        "plt.plot(betaarr,Hexpecmhmc,'.')\n",
        "plt.title(\"Energy Comparison (N=2)\")\n",
        "plt.xlabel(\"Beta\")\n",
        "plt.ylabel(\"U\")\n",
        "plt.legend(('Analytic','H MC', 'MH MC'));\n",
        "plt.show()"
      ],
      "execution_count": 5,
      "outputs": [
        {
          "output_type": "display_data",
          "data": {
            "image/png": "[encoded data removed]",
            "text/plain": [
              "<Figure size 432x288 with 1 Axes>"
            ]
          },
          "metadata": {
            "tags": []
          }
        }
      ]
    },
    {
      "cell_type": "markdown",
      "metadata": {
        "id": "eo3aU5Ti7g_z",
        "colab_type": "text"
      },
      "source": [
        "As seen here, the MCMC methods do a fantastic job estimating the analytic values for N=2. Note that the number of iterations changes with beta, as more are needed at higher temperature to achieve convergence. This results in long computational times if high temperatures are to be investigated."
      ]
    },
    {
      "cell_type": "code",
      "metadata": {
        "id": "Wcahx3zPp4r4",
        "colab_type": "code",
        "colab": {}
      },
      "source": [
        "#Parametrize discrete system\n",
        "N_pts = int(5) #number of points in path\n",
        "N_iter = int(3e3) #number of iterations per point\n",
        "N_pp = int(5) #intermediate iterations per point\n",
        "omega = 1.0\n",
        "m = 1.0\n",
        "hbar = 1.0\n",
        "kB = 1\n",
        "\n",
        "#Analytic\n",
        "Uanalytic = np.zeros(100)\n",
        "betaan = np.linspace(0.2,4,100)\n",
        "\n",
        "for i in range(100):\n",
        "  Uanalytic[i] = true_H(omega, 1/betaan[i], 4)\n",
        "\n",
        "#THESE TWO BELOW NEED TO BE GUARANTEED CONVERGED!\n",
        "betaarr = np.asarray([4,2,1,0.5])\n",
        "Hexpechmc = np.zeros(len(betaarr))\n",
        "statehmc = np.zeros(len(betaarr))\n",
        "Hexpecmhmc = np.zeros(len(betaarr))\n",
        "statemhmc = np.zeros(len(betaarr))\n",
        "\n",
        "for t in range(len(betaarr)):\n",
        "  #Hamiltonian MCMC\n",
        "  Hexpechmct,statehmc = run_mcmc(N_pts, int(9e5)*(t+1), omega, 1/(betaarr[t]), \"Hamiltonian\")\n",
        "  Hexpechmc[t] = Hexpechmct[-1]\n",
        "\n",
        "  #Metropolis-Hastings MCMC\n",
        "  Hexpecmhmct,statemhmc = run_mcmc(N_pts, N_iter*(t+1), omega, 1/(betaarr[t]), \"Metropolis-Hastings\")\n",
        "  Hexpecmhmc[t] = Hexpecmhmct[-1]\n"
      ],
      "execution_count": 0,
      "outputs": []
    },
    {
      "cell_type": "code",
      "metadata": {
        "id": "x8Rq4sSxp7dV",
        "colab_type": "code",
        "colab": {}
      },
      "source": [
        "#Plot to compare\n",
        "plt.plot(betaan*hbar*omega,Uanalytic/(hbar*omega))\n",
        "plt.plot(betaarr*hbar*omega,Hexpechmc/(hbar*omega),'.')\n",
        "plt.plot(betaarr*hbar*omega,Hexpecmhmc/(hbar*omega),'.')\n",
        "plt.title(\"Energy Comparison (N=5)\")\n",
        "plt.xlabel(\"Beta\")\n",
        "plt.ylabel(\"U\")\n",
        "plt.legend(('Analytic','H MC', 'MH MC'));\n",
        "plt.show()"
      ],
      "execution_count": 0,
      "outputs": []
    },
    {
      "cell_type": "markdown",
      "metadata": {
        "id": "b2H9FmdG3YdF",
        "colab_type": "text"
      },
      "source": [
        "The N=5 case takes even longer as more iterations are needed, but as seen above the analytic result is recreated by the approximate numerical methods extremely well. This shows that both MCMC methods are valid approaches to estimating solutions to the path integral."
      ]
    },
    {
      "cell_type": "markdown",
      "metadata": {
        "id": "09y4xsxH1aQ8",
        "colab_type": "text"
      },
      "source": [
        "## Performance analysis"
      ]
    },
    {
      "cell_type": "markdown",
      "metadata": {
        "id": "hwiC16f7qJd_",
        "colab_type": "text"
      },
      "source": [
        "Takes a couple hours to run. I wanted to use JIT, but there were some compatibility issues that I didn't care to take the time to iron out. Looking at what processes took the longest,"
      ]
    },
    {
      "cell_type": "code",
      "metadata": {
        "id": "gImtLqc-q3iG",
        "colab_type": "code",
        "colab": {}
      },
      "source": [
        "%prun run_mcmc(2, int(3e3), 1, 1, \"Hamiltonian\") #output shown below"
      ],
      "execution_count": 0,
      "outputs": []
    },
    {
      "cell_type": "markdown",
      "metadata": {
        "id": "_Tpn8JVGrrpV",
        "colab_type": "text"
      },
      "source": [
        "Open the cell below to see the clear table structure, showing that $svsolve$ and $dqh$ are the slowest calls right now. To me, this is more evidence of an issue with Hamiltonian method impleentation in some way."
      ]
    },
    {
      "cell_type": "markdown",
      "metadata": {
        "id": "woAmEOlmLjBb",
        "colab_type": "text"
      },
      "source": [
        "4731451 function calls (4731450 primitive calls) in 6.565 seconds\n",
        "\n",
        "   Ordered by: internal time\n",
        "\n",
        "   ncalls  tottime  percall  cumtime  percall filename:lineno(function)\n",
        "    14995    3.725    0.000    5.981    0.000 <ipython-input-2-cb542ce6a866>:64(sv_solve)\n",
        "  2999000    1.945    0.000    1.945    0.000 <ipython-input-2-cb542ce6a866>:55(d_qH)\n",
        "  1499500    0.285    0.000    0.285    0.000 <ipython-input-2-cb542ce6a866>:60(d_pH)\n",
        "    14995    0.138    0.000    0.217    0.000 {method 'randint' of 'numpy.random.mtrand.RandomState' objects}\n",
        "    14995    0.101    0.000    0.101    0.000 <ipython-input-2-cb542ce6a866>:5(get_prob)\n",
        "    14995    0.098    0.000    6.541    0.000 <ipython-input-2-cb542ce6a866>:76(hmc_update)\n",
        "    14995    0.097    0.000    0.097    0.000 {method 'normal' of 'numpy.random.mtrand.RandomState' objects}\n",
        "     7468    0.036    0.000    0.036    0.000 {method 'uniform' of 'numpy.random.mtrand.RandomState' objects}\n",
        "    29990    0.026    0.000    0.026    0.000 {built-in method numpy.zeros}\n",
        "    14995    0.025    0.000    0.080    0.000 _dtype.py:319(_name_get)\n",
        "        1    0.022    0.022    6.565    6.565 <ipython-input-2-cb542ce6a866>:115(run_mcmc)\n",
        "    29990    0.020    0.000    0.033    0.000 numerictypes.py:293(issubclass_)\n",
        "    14995    0.019    0.000    0.055    0.000 numerictypes.py:365(issubdtype)\n",
        "    44987    0.017    0.000    0.017    0.000 {built-in method builtins.issubclass}\n",
        "    14995    0.011    0.000    0.011    0.000 {built-in method builtins.min}\n",
        "      2/1    0.001    0.001    0.001    0.001 {built-in method numpy.core._multiarray_umath.implement_array_function}\n",
        "      269    0.001    0.000    0.001    0.000 <ipython-input-2-cb542ce6a866>:27(get_expec)\n",
        "        1    0.000    0.000    0.000    0.000 {method 'rand' of 'numpy.random.mtrand.RandomState' objects}\n",
        "      270    0.000    0.000    0.000    0.000 {method 'append' of 'list' objects}\n",
        "        1    0.000    0.000    0.001    0.001 linalg.py:2325(norm)\n",
        "        1    0.000    0.000    6.565    6.565 {built-in method builtins.exec}\n",
        "        1    0.000    0.000    0.000    0.000 {method 'ravel' of 'numpy.ndarray' objects}\n",
        "        2    0.000    0.000    0.000    0.000 {built-in method numpy.array}\n",
        "        1    0.000    0.000    0.001    0.001 <__array_function__ internals>:2(norm)\n",
        "        1    0.000    0.000    6.565    6.565 <string>:1(<module>)\n",
        "        1    0.000    0.000    0.000    0.000 _asarray.py:16(asarray)\n",
        "        1    0.000    0.000    0.001    0.001 <__array_function__ internals>:2(dot)\n",
        "        1    0.000    0.000    0.000    0.000 linalg.py:121(isComplexType)\n",
        "        1    0.000    0.000    0.000    0.000 linalg.py:2321(_norm_dispatcher)\n",
        "        1    0.000    0.000    0.000    0.000 multiarray.py:707(dot)\n",
        "        1    0.000    0.000    0.000    0.000 {method 'disable' of '_lsprof.Profiler' objects}"
      ]
    },
    {
      "cell_type": "markdown",
      "metadata": {
        "id": "fAE8qClr1w5s",
        "colab_type": "text"
      },
      "source": [
        "## Conclusion and Outlook"
      ]
    },
    {
      "cell_type": "markdown",
      "metadata": {
        "id": "Fa2NejuPp0hf",
        "colab_type": "text"
      },
      "source": [
        "This scheme obviously works and converges fairly quickly compared to many numerical methods. It can be applied to other Hamiltonians, often times trivially. There are some cases where it's harder due to things like singularities (reference [6]) but when applied it can yield novel info. If you want to stay with the harmonic oscillator potential, it's still useful in approximation schemes like the approximation of the nuclear potential in the Nuclear Shell Model (reference [7]).\n"
      ]
    },
    {
      "cell_type": "markdown",
      "metadata": {
        "id": "7XWVL_ctj17a",
        "colab_type": "text"
      },
      "source": [
        "# References\n",
        "\n",
        "[1] Samani, J., 2019. Project 4 - Instructions. UCLA Physics 180N. \n",
        "\n",
        "\n",
        "[2] Samani, J., 2019. lecture-4-notes. UCLA Physics 180N. \n",
        "\n",
        "[3] Samani, J., 2019. lecture-7-notes. UCLA Physics 180N.\n",
        "\n",
        "[4] Betancourt, Michael. \"A conceptual introduction to Hamiltonian Monte Carlo.\" arXiv preprint arXiv:1701.02434 (2017).\n",
        "\n",
        "[5] Larsen, Å. and Ravndal, F., 1988. The harmonic oscillator at finite temperature using path integrals. American Journal of Physics, 56(12), pp.1129-1133. (https://aapt.scitation.org/doi/abs/10.1119/1.15737)\n",
        "\n",
        "[6] Duru, I. H., and H. Kleinert. \"Quantum Mechanics of H‐Atom from Path Integrals.\" Fortschritte der Physik 30.8 (1982): 401-435.\n",
        "\n",
        "[7] Militzer, B. Path Integral Monte Carlo Simulations of Hot Dense Hydrogen Ph. D. Diss. thesis, University of Illinois at Urbana-Champaign p145, 2000.\n"
      ]
    }
  ]
}